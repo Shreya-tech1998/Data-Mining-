{
 "cells": [
  {
   "cell_type": "code",
   "execution_count": 1,
   "id": "8a2cfa7c",
   "metadata": {},
   "outputs": [],
   "source": [
    "# To Ignore warnings from scikit-learn\n",
    "import warnings\n",
    "from sklearn.exceptions import ConvergenceWarning\n",
    "\n",
    "warnings.filterwarnings(\"ignore\")\n",
    "warnings.filterwarnings('ignore', category=ConvergenceWarning)"
   ]
  },
  {
   "cell_type": "code",
   "execution_count": 2,
   "id": "49a356c2",
   "metadata": {},
   "outputs": [],
   "source": [
    "# Importing necessary libraries\n",
    "import pandas as pd\n",
    "from sklearn.neural_network import MLPClassifier\n",
    "from sklearn.metrics import accuracy_score, confusion_matrix, classification_report\n",
    "from sklearn.model_selection import RandomizedSearchCV\n",
    "from sklearn.model_selection import GridSearchCV\n",
    "import xgboost as xgb\n",
    "import numpy as np"
   ]
  },
  {
   "cell_type": "markdown",
   "id": "b3b316c5",
   "metadata": {},
   "source": [
    "## Loading the preprocessed data into the notebook"
   ]
  },
  {
   "cell_type": "code",
   "execution_count": 3,
   "id": "220a869d",
   "metadata": {},
   "outputs": [],
   "source": [
    "# Load the dataset from the csv file into a dataframe\n",
    "X_train = pd.read_csv('X_train.csv')\n",
    "y_train = pd.read_csv('y_train.csv')\n",
    "X_test = pd.read_csv('X_test.csv')\n",
    "y_test = pd.read_csv('y_test.csv')"
   ]
  },
  {
   "cell_type": "markdown",
   "id": "c111a09e",
   "metadata": {},
   "source": [
    "## Fitting a  MLPClassifier model on the training dataset"
   ]
  },
  {
   "cell_type": "code",
   "execution_count": 4,
   "id": "97a25d70",
   "metadata": {},
   "outputs": [
    {
     "name": "stdout",
     "output_type": "stream",
     "text": [
      "Wall time: 46.9 s\n"
     ]
    }
   ],
   "source": [
    "%%time\n",
    "\n",
    "ann = MLPClassifier(hidden_layer_sizes=(60,40,20), solver='adam', max_iter=500, random_state=42)\n",
    "_ = ann.fit(X_train, y_train)"
   ]
  },
  {
   "cell_type": "code",
   "execution_count": 5,
   "id": "c73b4bab",
   "metadata": {},
   "outputs": [
    {
     "name": "stdout",
     "output_type": "stream",
     "text": [
      "Wall time: 20.1 ms\n"
     ]
    }
   ],
   "source": [
    "%%time\n",
    "\n",
    "y_pred = ann.predict(X_test)"
   ]
  },
  {
   "cell_type": "markdown",
   "id": "c4705fd7",
   "metadata": {},
   "source": [
    "## Getting the results"
   ]
  },
  {
   "cell_type": "code",
   "execution_count": 6,
   "id": "933e8674",
   "metadata": {},
   "outputs": [
    {
     "name": "stdout",
     "output_type": "stream",
     "text": [
      "              precision    recall  f1-score   support\n",
      "\n",
      "          no       0.95      0.94      0.95      8036\n",
      "         yes       0.57      0.58      0.58      1026\n",
      "\n",
      "    accuracy                           0.90      9062\n",
      "   macro avg       0.76      0.76      0.76      9062\n",
      "weighted avg       0.90      0.90      0.90      9062\n",
      "\n",
      "RBF Kernel Accuracy: 0.9036636504082984\n",
      "RBF Kernel Confusion Matrix: \n",
      "[[7591  445]\n",
      " [ 428  598]]\n",
      "RBF Kernel Classification Report: \n",
      "              precision    recall  f1-score   support\n",
      "\n",
      "          no       0.95      0.94      0.95      8036\n",
      "         yes       0.57      0.58      0.58      1026\n",
      "\n",
      "    accuracy                           0.90      9062\n",
      "   macro avg       0.76      0.76      0.76      9062\n",
      "weighted avg       0.90      0.90      0.90      9062\n",
      "\n"
     ]
    }
   ],
   "source": [
    "print(classification_report(y_test, y_pred))\n",
    "\n",
    "# Accuracy\n",
    "accuracy_rbf = accuracy_score(y_test, y_pred)\n",
    "# Confusion Matrix\n",
    "conf_matrix_rbf = confusion_matrix(y_test, y_pred)\n",
    "# Classification Report\n",
    "class_report_rbf = classification_report(y_test, y_pred)\n",
    "\n",
    "print(f'RBF Kernel Accuracy: {accuracy_rbf}')\n",
    "print(f'RBF Kernel Confusion Matrix: \\n{conf_matrix_rbf}')\n",
    "print(f'RBF Kernel Classification Report: \\n{class_report_rbf}')"
   ]
  },
  {
   "cell_type": "code",
   "execution_count": null,
   "id": "41bac85a",
   "metadata": {},
   "outputs": [],
   "source": []
  }
 ],
 "metadata": {
  "kernelspec": {
   "display_name": "Python 3 (ipykernel)",
   "language": "python",
   "name": "python3"
  },
  "language_info": {
   "codemirror_mode": {
    "name": "ipython",
    "version": 3
   },
   "file_extension": ".py",
   "mimetype": "text/x-python",
   "name": "python",
   "nbconvert_exporter": "python",
   "pygments_lexer": "ipython3",
   "version": "3.9.13"
  }
 },
 "nbformat": 4,
 "nbformat_minor": 5
}
