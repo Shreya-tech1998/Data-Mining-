{
 "cells": [
  {
   "cell_type": "markdown",
   "id": "3edf2a33",
   "metadata": {},
   "source": [
    "### This notebook includes fitting the pre-processed data from the Notebook01, applying Logistic Regression, SVM, Random Forest, Decision Tree and Neural Network and discussing the performance."
   ]
  },
  {
   "cell_type": "code",
   "execution_count": 1,
   "id": "6c8182e0",
   "metadata": {},
   "outputs": [],
   "source": [
    "# To Ignore warnings from scikit-learn\n",
    "import warnings\n",
    "from sklearn.exceptions import ConvergenceWarning\n",
    "\n",
    "warnings.filterwarnings(\"ignore\")\n",
    "warnings.filterwarnings('ignore', category=ConvergenceWarning)"
   ]
  },
  {
   "cell_type": "code",
   "execution_count": 49,
   "id": "c48e1c63",
   "metadata": {},
   "outputs": [],
   "source": [
    "# Importing necessary libraries\n",
    "import numpy as np\n",
    "import matplotlib.pyplot as plt \n",
    "import pandas as pd\n",
    "from sklearn.linear_model import LogisticRegression\n",
    "from sklearn.svm import SVC\n",
    "from sklearn.ensemble import RandomForestClassifier\n",
    "from sklearn.tree import DecisionTreeClassifier\n",
    "from xgboost import XGBClassifier\n",
    "from sklearn.metrics import accuracy_score, confusion_matrix, classification_report\n",
    "from sklearn.model_selection import RandomizedSearchCV\n",
    "from sklearn.model_selection import GridSearchCV\n",
    "import numpy as np\n",
    "from sklearn.neural_network import MLPClassifier"
   ]
  },
  {
   "cell_type": "markdown",
   "id": "f880df8f",
   "metadata": {},
   "source": [
    "### Loading the pre-processed data from the Notebook01."
   ]
  },
  {
   "cell_type": "code",
   "execution_count": 3,
   "id": "ed2c110d",
   "metadata": {},
   "outputs": [],
   "source": [
    "X_train = pd.read_csv('X_train.csv')\n",
    "y_train = pd.read_csv('y_train.csv')\n",
    "X_test = pd.read_csv('X_test.csv')\n",
    "y_test = pd.read_csv('y_test.csv')"
   ]
  },
  {
   "cell_type": "markdown",
   "id": "f3ecd213",
   "metadata": {},
   "source": [
    "# Logistic Regression "
   ]
  },
  {
   "cell_type": "code",
   "execution_count": 4,
   "id": "da3cb9ac",
   "metadata": {},
   "outputs": [
    {
     "data": {
      "text/plain": [
       "LogisticRegression(random_state=42)"
      ]
     },
     "execution_count": 4,
     "metadata": {},
     "output_type": "execute_result"
    }
   ],
   "source": [
    "logistic_reg = LogisticRegression(random_state=42)\n",
    "logistic_reg.fit(X_train, y_train)"
   ]
  },
  {
   "cell_type": "code",
   "execution_count": 5,
   "id": "00cce303",
   "metadata": {},
   "outputs": [],
   "source": [
    "# Make predictions\n",
    "y_pred_logistic = logistic_reg.predict(X_test)"
   ]
  },
  {
   "cell_type": "markdown",
   "id": "17831f3d",
   "metadata": {},
   "source": [
    "#### Measuring the performance of Logistic Regression model"
   ]
  },
  {
   "cell_type": "code",
   "execution_count": 6,
   "id": "5f7f5e77",
   "metadata": {},
   "outputs": [
    {
     "name": "stdout",
     "output_type": "stream",
     "text": [
      "Logistic Regression Accuracy: 0.912381372765394\n",
      "Logistic Regression Confusion Matrix: \n",
      "[[7804  232]\n",
      " [ 562  464]]\n",
      "Logistic Regression Classification Report: \n",
      "              precision    recall  f1-score   support\n",
      "\n",
      "          no       0.93      0.97      0.95      8036\n",
      "         yes       0.67      0.45      0.54      1026\n",
      "\n",
      "    accuracy                           0.91      9062\n",
      "   macro avg       0.80      0.71      0.75      9062\n",
      "weighted avg       0.90      0.91      0.90      9062\n",
      "\n"
     ]
    }
   ],
   "source": [
    "# Accuracy\n",
    "accuracy_logistic = accuracy_score(y_test, y_pred_logistic)\n",
    "\n",
    "# Confusion Matrix\n",
    "conf_matrix_logistic = confusion_matrix(y_test, y_pred_logistic)\n",
    "\n",
    "# Classification Report\n",
    "class_report_logistic = classification_report(y_test, y_pred_logistic)\n",
    "\n",
    "print(f'Logistic Regression Accuracy: {accuracy_logistic}')\n",
    "print(f'Logistic Regression Confusion Matrix: \\n{conf_matrix_logistic}')\n",
    "print(f'Logistic Regression Classification Report: \\n{class_report_logistic}')"
   ]
  },
  {
   "cell_type": "markdown",
   "id": "3eb58867",
   "metadata": {},
   "source": [
    "#### Applying Random Search on Logistic Regression"
   ]
  },
  {
   "cell_type": "code",
   "execution_count": null,
   "id": "88f7b3f6",
   "metadata": {},
   "outputs": [],
   "source": [
    "'''\n",
    "# Define the logistic regression model\n",
    "logistic_reg = LogisticRegression()\n",
    "\n",
    "# Create a parameter grid with hyperparameter ranges to search\n",
    "param_dist = {\n",
    "    'C': np.logspace(-3, 3, 7),  # Inverse of regularization strength\n",
    "    'penalty': ['l1', 'l2'],  # Regularization penalty\n",
    "    'max_iter': [100, 500, 1000],  # Maximum number of iterations for optimization\n",
    "    'solver': ['liblinear', 'saga'],  # Optimization algorithm\n",
    "}\n",
    "\n",
    "# Create a RandomizedSearchCV object\n",
    "random_search_logistic = RandomizedSearchCV(\n",
    "    logistic_reg, \n",
    "    param_distributions=param_dist, \n",
    "    n_iter=20,  # Number of parameter settings that are sampled\n",
    "    cv=5,  # Number of cross-validation folds\n",
    "    scoring='accuracy',  # Scoring metric\n",
    "    n_jobs=-1,  # Use all available CPU cores\n",
    "    random_state=42  # Random seed for reproducibility\n",
    ")\n",
    "\n",
    "# Fit the Random Search on the training data\n",
    "random_search_logistic.fit(X_train, y_train)\n",
    "\n",
    "# Get the best hyperparameters and model\n",
    "best_params_logistic = random_search_logistic.best_params_\n",
    "best_model_logistic = random_search_logistic.best_estimator_\n",
    "\n",
    "# Evaluate the best model on the test data\n",
    "y_pred_best_logistic = best_model_logistic.predict(X_test)\n",
    "accuracy_best_logistic = accuracy_score(y_test, y_pred_best_logistic)\n",
    "\n",
    "print(f'Best Hyperparameters (Logistic Regression): {best_params_logistic}')\n",
    "print(f'Best Model Accuracy (Logistic Regression): {accuracy_best_logistic}')\n",
    "'''"
   ]
  },
  {
   "cell_type": "code",
   "execution_count": null,
   "id": "f762f49a",
   "metadata": {},
   "outputs": [],
   "source": [
    "'''\n",
    "print(f'Best Hyperparameters: {best_params_logistic}')\n",
    "print(f'Best Model Accuracy: {accuracy_best_logistic}')\n",
    "'''"
   ]
  },
  {
   "cell_type": "code",
   "execution_count": null,
   "id": "27446f98",
   "metadata": {},
   "outputs": [],
   "source": [
    "'''\n",
    "# Define the logistic regression model\n",
    "logistic_reg = LogisticRegression()\n",
    "\n",
    "# Create a parameter grid with hyperparameter ranges to search\n",
    "param_grid = {\n",
    "    'C': [0.001, 0.01, 0.1, 1, 10, 100, 1000],  # Inverse of regularization strength\n",
    "    'penalty': ['l1', 'l2'],  # Regularization penalty\n",
    "    'max_iter': [100, 500, 1000],  # Maximum number of iterations for optimization\n",
    "    'solver': ['liblinear', 'saga'],  # Optimization algorithm\n",
    "}\n",
    "\n",
    "# Create a GridSearchCV object\n",
    "grid_search_logistic = GridSearchCV(\n",
    "    logistic_reg, \n",
    "    param_grid=param_grid, \n",
    "    cv=5,  # Number of cross-validation folds\n",
    "    scoring='accuracy',  # Scoring metric\n",
    "    n_jobs=-1  # Use all available CPU cores\n",
    ")\n",
    "\n",
    "# Fit the Grid Search on the training data\n",
    "grid_search_logistic.fit(X_train, y_train)\n",
    "\n",
    "# Get the best hyperparameters and model\n",
    "best_params_logistic = grid_search_logistic.best_params_\n",
    "best_model_logistic = grid_search_logistic.best_estimator_\n",
    "\n",
    "# Evaluate the best model on the test data\n",
    "y_pred_best_logistic = best_model_logistic.predict(X_test)\n",
    "accuracy_best_logistic = accuracy_score(y_test, y_pred_best_logistic)\n",
    "\n",
    "print(f'Best Hyperparameters (Logistic Regression): {best_params_logistic}')\n",
    "print(f'Best Model Accuracy (Logistic Regression): {accuracy_best_logistic}')\n",
    "\n",
    "'''"
   ]
  },
  {
   "cell_type": "code",
   "execution_count": null,
   "id": "29f703b6",
   "metadata": {},
   "outputs": [],
   "source": [
    "'''\n",
    "print(f'Best Hyperparameters (Logistic Regression): {best_params_logistic}')\n",
    "print(f'Best Model Accuracy (Logistic Regression): {accuracy_best_logistic}')\n",
    "\n",
    "'''"
   ]
  },
  {
   "cell_type": "markdown",
   "id": "84e80708",
   "metadata": {},
   "source": [
    "# SVM"
   ]
  },
  {
   "cell_type": "markdown",
   "id": "2215bf68",
   "metadata": {},
   "source": [
    "### Fitting a Linear Kernel model"
   ]
  },
  {
   "cell_type": "code",
   "execution_count": 7,
   "id": "5892d84f",
   "metadata": {},
   "outputs": [],
   "source": [
    "# Initialize the model with a linear kernel\n",
    "clf_linear = SVC(kernel='linear')\n",
    "# Train the model\n",
    "clf_linear.fit(X_train, y_train)\n",
    "# Make predictions\n",
    "y_pred_linear = clf_linear.predict(X_test)"
   ]
  },
  {
   "cell_type": "markdown",
   "id": "70a1d1b7",
   "metadata": {},
   "source": [
    "### Measuring the performance of Linear Kernel model"
   ]
  },
  {
   "cell_type": "code",
   "execution_count": 8,
   "id": "d9d6b013",
   "metadata": {},
   "outputs": [
    {
     "name": "stdout",
     "output_type": "stream",
     "text": [
      "Linear Kernel Accuracy: 0.9039947031560363\n",
      "Linear Kernel Confusion Matrix: \n",
      "[[7836  200]\n",
      " [ 670  356]]\n",
      "Linear Kernel Classification Report: \n",
      "              precision    recall  f1-score   support\n",
      "\n",
      "          no       0.92      0.98      0.95      8036\n",
      "         yes       0.64      0.35      0.45      1026\n",
      "\n",
      "    accuracy                           0.90      9062\n",
      "   macro avg       0.78      0.66      0.70      9062\n",
      "weighted avg       0.89      0.90      0.89      9062\n",
      "\n"
     ]
    }
   ],
   "source": [
    "# Accuracy\n",
    "accuracy_linear = accuracy_score(y_test, y_pred_linear)\n",
    "# Confusion Matrix\n",
    "conf_matrix_linear = confusion_matrix(y_test, y_pred_linear)\n",
    "# Classification Report\n",
    "class_report_linear = classification_report(y_test, y_pred_linear)\n",
    "\n",
    "print(f'Linear Kernel Accuracy: {accuracy_linear}')\n",
    "print(f'Linear Kernel Confusion Matrix: \\n{conf_matrix_linear}')\n",
    "print(f'Linear Kernel Classification Report: \\n{class_report_linear}')"
   ]
  },
  {
   "cell_type": "markdown",
   "id": "72d7471b",
   "metadata": {},
   "source": [
    "### Fitting a Non-Linear Kernel (RBF) model"
   ]
  },
  {
   "cell_type": "code",
   "execution_count": 9,
   "id": "73557870",
   "metadata": {},
   "outputs": [],
   "source": [
    "# Initialize the model with an RBF kernel\n",
    "clf_rbf = SVC(kernel='rbf')\n",
    "# Train the model\n",
    "clf_rbf.fit(X_train, y_train)\n",
    "# Make predictions\n",
    "y_pred_rbf = clf_rbf.predict(X_test)"
   ]
  },
  {
   "cell_type": "markdown",
   "id": "e8c57015",
   "metadata": {},
   "source": [
    "### Measuring the performance of Non-Linear Kernel model"
   ]
  },
  {
   "cell_type": "code",
   "execution_count": 10,
   "id": "a7843334",
   "metadata": {},
   "outputs": [
    {
     "name": "stdout",
     "output_type": "stream",
     "text": [
      "RBF Kernel Accuracy: 0.9131538291767821\n",
      "RBF Kernel Confusion Matrix: \n",
      "[[7830  206]\n",
      " [ 581  445]]\n",
      "RBF Kernel Classification Report: \n",
      "              precision    recall  f1-score   support\n",
      "\n",
      "          no       0.93      0.97      0.95      8036\n",
      "         yes       0.68      0.43      0.53      1026\n",
      "\n",
      "    accuracy                           0.91      9062\n",
      "   macro avg       0.81      0.70      0.74      9062\n",
      "weighted avg       0.90      0.91      0.90      9062\n",
      "\n"
     ]
    }
   ],
   "source": [
    "# Accuracy\n",
    "accuracy_rbf = accuracy_score(y_test, y_pred_rbf)\n",
    "# Confusion Matrix\n",
    "conf_matrix_rbf = confusion_matrix(y_test, y_pred_rbf)\n",
    "# Classification Report\n",
    "class_report_rbf = classification_report(y_test, y_pred_rbf)\n",
    "\n",
    "print(f'RBF Kernel Accuracy: {accuracy_rbf}')\n",
    "print(f'RBF Kernel Confusion Matrix: \\n{conf_matrix_rbf}')\n",
    "print(f'RBF Kernel Classification Report: \\n{class_report_rbf}')"
   ]
  },
  {
   "cell_type": "markdown",
   "id": "fe72dd60",
   "metadata": {},
   "source": [
    "# Random Forest "
   ]
  },
  {
   "cell_type": "code",
   "execution_count": 11,
   "id": "566f8348",
   "metadata": {},
   "outputs": [
    {
     "name": "stdout",
     "output_type": "stream",
     "text": [
      "Random Forest Accuracy: 0.9282719046568086\n",
      "Random Forest Confusion Matrix:\n",
      "[[7820  216]\n",
      " [ 434  592]]\n",
      "Random Forest Classification Report:\n",
      "              precision    recall  f1-score   support\n",
      "\n",
      "          no       0.95      0.97      0.96      8036\n",
      "         yes       0.73      0.58      0.65      1026\n",
      "\n",
      "    accuracy                           0.93      9062\n",
      "   macro avg       0.84      0.78      0.80      9062\n",
      "weighted avg       0.92      0.93      0.92      9062\n",
      "\n"
     ]
    }
   ],
   "source": [
    "# Initialize and train the Random Forest model\n",
    "rf_classifier = RandomForestClassifier(random_state=42)\n",
    "rf_classifier.fit(X_train, y_train)\n",
    "\n",
    "# Make predictions on the test data\n",
    "y_pred_rf = rf_classifier.predict(X_test)\n",
    "\n",
    "# Measuring the performance of the Random Forest model\n",
    "# Accuracy\n",
    "accuracy_rf = accuracy_score(y_test, y_pred_rf)\n",
    "\n",
    "# Confusion Matrix\n",
    "conf_matrix_rf = confusion_matrix(y_test, y_pred_rf)\n",
    "\n",
    "# Classification Report\n",
    "class_report_rf = classification_report(y_test, y_pred_rf)\n",
    "\n",
    "print(f'Random Forest Accuracy: {accuracy_rf}')\n",
    "print(f'Random Forest Confusion Matrix:\\n{conf_matrix_rf}')\n",
    "print(f'Random Forest Classification Report:\\n{class_report_rf}')"
   ]
  },
  {
   "cell_type": "markdown",
   "id": "1258a0f1",
   "metadata": {},
   "source": [
    "#### Applying Random search for Random Forest model"
   ]
  },
  {
   "cell_type": "code",
   "execution_count": null,
   "id": "881154c0",
   "metadata": {},
   "outputs": [],
   "source": [
    "'''\n",
    "# Define the Random Forest model\n",
    "rf_classifier = RandomForestClassifier(random_state=42)\n",
    "\n",
    "# Define the hyperparameter grid for Randomized Search\n",
    "param_grid = {\n",
    "    'n_estimators': [50, 100, 150, 200],  # Number of trees in the forest\n",
    "    'max_features': ['auto', 'sqrt', 'log2'],  # Number of features to consider for the best split\n",
    "    'max_depth': [None] + list(range(10, 31)),  # Maximum depth of the tree\n",
    "    'min_samples_split': [2, 5, 10],  # Minimum number of samples required to split an internal node\n",
    "    'min_samples_leaf': [1, 2, 4],  # Minimum number of samples required to be a leaf node\n",
    "    'bootstrap': [True, False]  # Whether or not to use bootstrapping\n",
    "}\n",
    "\n",
    "# Create the Randomized Search CV object\n",
    "random_search_rf = RandomizedSearchCV(\n",
    "    rf_classifier, \n",
    "    param_distributions=param_grid, \n",
    "    n_iter=100,  # Number of random combinations to try\n",
    "    scoring='accuracy',  # You can use different scoring metrics\n",
    "    cv=5,  # Number of cross-validation folds\n",
    "    n_jobs=-1,  # Use all available CPU cores\n",
    "    random_state=42,\n",
    "    verbose=1  # Show progress during the search\n",
    ")\n",
    "\n",
    "# Fit the Randomized Search on the training data\n",
    "random_search_rf.fit(X_train, y_train)\n",
    "\n",
    "# Get the best hyperparameters and model\n",
    "best_params_rf = random_search_rf.best_params_\n",
    "best_model_rf = random_search_rf.best_estimator_\n",
    "\n",
    "# Evaluate the best model on the test data\n",
    "y_pred_best_rf = best_model_rf.predict(X_test)\n",
    "accuracy_best_rf = accuracy_score(y_test, y_pred_best_rf)\n",
    "\n",
    "print(f'Best Hyperparameters (Random Forest): {best_params_rf}')\n",
    "print(f'Best Model Accuracy (Random Forest): {accuracy_best_rf}') \n",
    "\n",
    "'''"
   ]
  },
  {
   "cell_type": "code",
   "execution_count": null,
   "id": "9b743731",
   "metadata": {},
   "outputs": [],
   "source": [
    "'''\n",
    "print(f'Best Hyperparameters: {best_params_rf}')\n",
    "print(f'Best Model Accuracy: {accuracy_best_rf}')\n",
    "'''"
   ]
  },
  {
   "cell_type": "markdown",
   "id": "805931d2",
   "metadata": {},
   "source": [
    "# Decision Tree "
   ]
  },
  {
   "cell_type": "code",
   "execution_count": 12,
   "id": "b00145aa",
   "metadata": {},
   "outputs": [
    {
     "data": {
      "text/plain": [
       "DecisionTreeClassifier(random_state=42)"
      ]
     },
     "execution_count": 12,
     "metadata": {},
     "output_type": "execute_result"
    }
   ],
   "source": [
    "# Initialize and train the Decision Tree model\n",
    "clf = DecisionTreeClassifier(random_state=42)\n",
    "clf.fit(X_train, y_train)"
   ]
  },
  {
   "cell_type": "code",
   "execution_count": 13,
   "id": "4ddd0e57",
   "metadata": {},
   "outputs": [],
   "source": [
    "y_pred_decision = clf.predict(X_test)"
   ]
  },
  {
   "cell_type": "markdown",
   "id": "b2bcdb2a",
   "metadata": {},
   "source": [
    "### Measuring the performance of Decision-Tree model"
   ]
  },
  {
   "cell_type": "code",
   "execution_count": 14,
   "id": "b0090a2f",
   "metadata": {},
   "outputs": [
    {
     "name": "stdout",
     "output_type": "stream",
     "text": [
      "Decision Tree Accuracy: 0.9023394394173472\n",
      "Decision Tree Confusion Matrix: \n",
      "[[7560  476]\n",
      " [ 409  617]]\n",
      "Decision Tree Classification Report: \n",
      "              precision    recall  f1-score   support\n",
      "\n",
      "          no       0.95      0.94      0.94      8036\n",
      "         yes       0.56      0.60      0.58      1026\n",
      "\n",
      "    accuracy                           0.90      9062\n",
      "   macro avg       0.76      0.77      0.76      9062\n",
      "weighted avg       0.91      0.90      0.90      9062\n",
      "\n"
     ]
    }
   ],
   "source": [
    "# Accuracy\n",
    "accuracy_decision = accuracy_score(y_test, y_pred_decision)\n",
    "# Confusion Matrix\n",
    "conf_matrix_decision = confusion_matrix(y_test, y_pred_decision)\n",
    "# Classification Report\n",
    "class_report_decision = classification_report(y_test, y_pred_decision)\n",
    "\n",
    "print(f'Decision Tree Accuracy: {accuracy_decision}')\n",
    "print(f'Decision Tree Confusion Matrix: \\n{conf_matrix_decision}')\n",
    "print(f'Decision Tree Classification Report: \\n{class_report_decision}')"
   ]
  },
  {
   "cell_type": "markdown",
   "id": "6f742096",
   "metadata": {},
   "source": [
    "#### Applying Random Search for Decision Tree"
   ]
  },
  {
   "cell_type": "code",
   "execution_count": null,
   "id": "64c7d80b",
   "metadata": {},
   "outputs": [],
   "source": [
    "''''\n",
    "from sklearn.tree import DecisionTreeClassifier\n",
    "from sklearn.model_selection import RandomizedSearchCV\n",
    "import numpy as np\n",
    "\n",
    "# Define the Decision Tree model\n",
    "dt_classifier = DecisionTreeClassifier(random_state=42)\n",
    "\n",
    "# Define the hyperparameter grid for Randomized Search\n",
    "param_grid = {\n",
    "    'criterion': ['gini', 'entropy'],\n",
    "    'splitter': ['best', 'random'],\n",
    "    'max_depth': np.arange(1, 20),\n",
    "    'min_samples_split': np.arange(2, 11),\n",
    "    'min_samples_leaf': np.arange(1, 11)\n",
    "}\n",
    "\n",
    "# Create the Randomized Search CV object\n",
    "random_search = RandomizedSearchCV(\n",
    "    dt_classifier, \n",
    "    param_distributions=param_grid, \n",
    "    n_iter=100,  # Number of random combinations to try\n",
    "    scoring='accuracy',  # You can use different scoring metrics\n",
    "    cv=5,  # Number of cross-validation folds\n",
    "    random_state=42,\n",
    "    n_jobs=-1,  # Use all available CPU cores\n",
    "    verbose=1  # Show progress during the search\n",
    ")\n",
    "\n",
    "# Fit the Randomized Search on the training data\n",
    "random_search.fit(X_train, y_train)\n",
    "\n",
    "# Get the best hyperparameters and model\n",
    "best_params = random_search.best_params_\n",
    "best_model = random_search.best_estimator_\n",
    "\n",
    "# Evaluate the best model on the test data\n",
    "y_pred_best = best_model.predict(X_test)\n",
    "accuracy_best = accuracy_score(y_test, y_pred_best)\n",
    "\n",
    "print(f'Best Hyperparameters: {best_params}')\n",
    "print(f'Best Model Accuracy: {accuracy_best}')\n",
    "'''"
   ]
  },
  {
   "cell_type": "markdown",
   "id": "e8696c13",
   "metadata": {},
   "source": [
    "#### Applying Grid Search for Decision Tree"
   ]
  },
  {
   "cell_type": "code",
   "execution_count": null,
   "id": "a17ebe96",
   "metadata": {},
   "outputs": [],
   "source": [
    "''''\n",
    "from sklearn.tree import DecisionTreeClassifier\n",
    "from sklearn.model_selection import GridSearchCV\n",
    "\n",
    "# Define the Decision Tree model\n",
    "dt_classifier = DecisionTreeClassifier(random_state=42)\n",
    "\n",
    "# Define the hyperparameter grid for Grid Search\n",
    "param_grid = {\n",
    "    'criterion': ['gini', 'entropy'],\n",
    "    'splitter': ['best', 'random'],\n",
    "    'max_depth': [None] + list(range(1, 20)),  # Include None for no maximum depth\n",
    "    'min_samples_split': [2, 3, 4, 5, 6, 7, 8, 9, 10],\n",
    "    'min_samples_leaf': [1, 2, 3, 4, 5, 6, 7, 8, 9, 10]\n",
    "}\n",
    "\n",
    "# Create the Grid Search CV object\n",
    "grid_search = GridSearchCV(\n",
    "    dt_classifier, \n",
    "    param_grid=param_grid,\n",
    "    scoring='accuracy',  # You can use different scoring metrics\n",
    "    cv=5,  # Number of cross-validation folds\n",
    "    n_jobs=-1,  # Use all available CPU cores\n",
    "    verbose=1  # Show progress during the search\n",
    ")\n",
    "\n",
    "# Fit the Grid Search on the training data\n",
    "grid_search.fit(X_train, y_train)\n",
    "\n",
    "# Get the best hyperparameters and model\n",
    "best_params = grid_search.best_params_\n",
    "best_model = grid_search.best_estimator_\n",
    "\n",
    "# Evaluate the best model on the test data\n",
    "y_pred_best = best_model.predict(X_test)\n",
    "accuracy_best = accuracy_score(y_test, y_pred_best)\n",
    "\n",
    "print(f'Best Hyperparameters: {best_params}')\n",
    "print(f'Best Model Accuracy: {accuracy_best}')\n",
    "'''"
   ]
  },
  {
   "cell_type": "markdown",
   "id": "96ede2ec",
   "metadata": {},
   "source": [
    "# XGBoost "
   ]
  },
  {
   "cell_type": "code",
   "execution_count": 15,
   "id": "2b139f3f",
   "metadata": {},
   "outputs": [],
   "source": [
    "# Mapping function to convert 'yes' to 1 and 'no' to 0\n",
    "y_train['y']= y_train['y'].map({'yes': 1, 'no': 0})\n",
    "y_test['y'] = y_test['y'].map({'yes': 1, 'no': 0})"
   ]
  },
  {
   "cell_type": "code",
   "execution_count": 21,
   "id": "1b81c54a",
   "metadata": {},
   "outputs": [
    {
     "data": {
      "text/plain": [
       "XGBClassifier(base_score=None, booster=None, callbacks=None,\n",
       "              colsample_bylevel=None, colsample_bynode=None,\n",
       "              colsample_bytree=None, device=None, early_stopping_rounds=None,\n",
       "              enable_categorical=False, eval_metric=None, feature_types=None,\n",
       "              gamma=None, grow_policy=None, importance_type=None,\n",
       "              interaction_constraints=None, learning_rate=None, max_bin=None,\n",
       "              max_cat_threshold=None, max_cat_to_onehot=None,\n",
       "              max_delta_step=None, max_depth=None, max_leaves=None,\n",
       "              min_child_weight=None, missing=nan, monotone_constraints=None,\n",
       "              multi_strategy=None, n_estimators=None, n_jobs=None,\n",
       "              num_parallel_tree=None, random_state=None, ...)"
      ]
     },
     "execution_count": 21,
     "metadata": {},
     "output_type": "execute_result"
    }
   ],
   "source": [
    "# Create an XGBoost classifier\n",
    "xgb_model = XGBClassifier()\n",
    "\n",
    "# Fit the model to the training data\n",
    "xgb_model.fit(X_train, y_train.values.ravel())"
   ]
  },
  {
   "cell_type": "code",
   "execution_count": 22,
   "id": "8c2293a2",
   "metadata": {},
   "outputs": [],
   "source": [
    "# Make predictions on the test data using the trained model\n",
    "y_pred = xgb_model.predict(X_test)"
   ]
  },
  {
   "cell_type": "markdown",
   "id": "92b8e549",
   "metadata": {},
   "source": [
    "### Measuring the Performance of XGBoost Model"
   ]
  },
  {
   "cell_type": "code",
   "execution_count": 23,
   "id": "0f09cd6b",
   "metadata": {},
   "outputs": [
    {
     "name": "stdout",
     "output_type": "stream",
     "text": [
      "Accuracy: 0.9190024277201501\n",
      "Confusion Matrix:\n",
      "[[7732  304]\n",
      " [ 430  596]]\n",
      "Classification Report:\n",
      "              precision    recall  f1-score   support\n",
      "\n",
      "           0       0.95      0.96      0.95      8036\n",
      "           1       0.66      0.58      0.62      1026\n",
      "\n",
      "    accuracy                           0.92      9062\n",
      "   macro avg       0.80      0.77      0.79      9062\n",
      "weighted avg       0.92      0.92      0.92      9062\n",
      "\n"
     ]
    }
   ],
   "source": [
    "# Calculate accuracy\n",
    "accuracy = accuracy_score(y_test, y_pred)\n",
    "print(f\"Accuracy: {accuracy}\")\n",
    "\n",
    "# Calculate confusion matrix\n",
    "conf_matrix = confusion_matrix(y_test, y_pred)\n",
    "print(\"Confusion Matrix:\")\n",
    "print(conf_matrix)\n",
    "\n",
    "# Generate and print the classification report\n",
    "class_report = classification_report(y_test, y_pred)\n",
    "print(\"Classification Report:\")\n",
    "print(class_report)"
   ]
  },
  {
   "cell_type": "markdown",
   "id": "e03b2aa6",
   "metadata": {},
   "source": [
    "# Neural Network (NN)"
   ]
  },
  {
   "cell_type": "markdown",
   "id": "ca69326e",
   "metadata": {},
   "source": [
    "## Fitting a MLPClassifier model on the training dataset"
   ]
  },
  {
   "cell_type": "code",
   "execution_count": 25,
   "id": "eee1015c",
   "metadata": {},
   "outputs": [
    {
     "name": "stdout",
     "output_type": "stream",
     "text": [
      "Wall time: 51.3 s\n"
     ]
    }
   ],
   "source": [
    "%%time\n",
    "\n",
    "ann = MLPClassifier(hidden_layer_sizes=(60,40,20), solver='adam', max_iter=500, random_state=42)\n",
    "_ = ann.fit(X_train, y_train)"
   ]
  },
  {
   "cell_type": "code",
   "execution_count": 26,
   "id": "eb067198",
   "metadata": {},
   "outputs": [
    {
     "name": "stdout",
     "output_type": "stream",
     "text": [
      "Wall time: 17.6 ms\n"
     ]
    }
   ],
   "source": [
    "%%time\n",
    "\n",
    "y_pred = ann.predict(X_test)"
   ]
  },
  {
   "cell_type": "markdown",
   "id": "9763a226",
   "metadata": {},
   "source": [
    "## Measuring the performance on NN"
   ]
  },
  {
   "cell_type": "code",
   "execution_count": 27,
   "id": "c200bcac",
   "metadata": {},
   "outputs": [
    {
     "name": "stdout",
     "output_type": "stream",
     "text": [
      "              precision    recall  f1-score   support\n",
      "\n",
      "           0       0.95      0.94      0.95      8036\n",
      "           1       0.57      0.58      0.58      1026\n",
      "\n",
      "    accuracy                           0.90      9062\n",
      "   macro avg       0.76      0.76      0.76      9062\n",
      "weighted avg       0.90      0.90      0.90      9062\n",
      "\n",
      "RBF Kernel Accuracy: 0.9036636504082984\n",
      "RBF Kernel Confusion Matrix: \n",
      "[[7591  445]\n",
      " [ 428  598]]\n",
      "RBF Kernel Classification Report: \n",
      "              precision    recall  f1-score   support\n",
      "\n",
      "           0       0.95      0.94      0.95      8036\n",
      "           1       0.57      0.58      0.58      1026\n",
      "\n",
      "    accuracy                           0.90      9062\n",
      "   macro avg       0.76      0.76      0.76      9062\n",
      "weighted avg       0.90      0.90      0.90      9062\n",
      "\n"
     ]
    }
   ],
   "source": [
    "print(classification_report(y_test, y_pred))\n",
    "\n",
    "# Accuracy\n",
    "accuracy_rbf = accuracy_score(y_test, y_pred)\n",
    "# Confusion Matrix\n",
    "conf_matrix_rbf = confusion_matrix(y_test, y_pred)\n",
    "# Classification Report\n",
    "class_report_rbf = classification_report(y_test, y_pred)\n",
    "\n",
    "print(f'RBF Kernel Accuracy: {accuracy_rbf}')\n",
    "print(f'RBF Kernel Confusion Matrix: \\n{conf_matrix_rbf}')\n",
    "print(f'RBF Kernel Classification Report: \\n{class_report_rbf}')"
   ]
  },
  {
   "cell_type": "markdown",
   "id": "ff237cc5",
   "metadata": {},
   "source": [
    "## Plotting the Gains Curve of the all the models "
   ]
  },
  {
   "cell_type": "code",
   "execution_count": null,
   "id": "74b030ef",
   "metadata": {},
   "outputs": [],
   "source": [
    "# Function to plot Lift and Gain Charts\n",
    "def plot_lift_gain_chart(y_true, y_pred_proba):\n",
    "    # Sort the probabilities and true labels in descending order\n",
    "    sorted_indices = np.argsort(y_pred_proba)[::-1]\n",
    "    sorted_y_true = y_true[sorted_indices]\n",
    "\n",
    "    # Calculate the cumulative gains\n",
    "    cum_gains = np.cumsum(sorted_y_true) / np.sum(sorted_y_true)\n",
    "\n",
    "    # Calculate the lift values correctly\n",
    "    baseline = np.linspace(0, 1, len(y_true))\n",
    "    lift = cum_gains / baseline\n",
    "\n",
    "    # Plot the Lift and Gain Charts\n",
    "    plt.figure(figsize=(12, 6))\n",
    "    plt.subplot(1, 2, 1)\n",
    "    plt.plot(cum_gains, label='Cumulative Gains', color='b')\n",
    "    plt.xlabel('Number of Samples')\n",
    "    plt.ylabel('Cumulative Gains')\n",
    "    plt.title('Gain Chart')\n",
    "    plt.legend()\n",
    "\n",
    "    plt.subplot(1, 2, 2)\n",
    "    plt.plot(lift, label='Lift', color='r')\n",
    "    plt.xlabel('Number of Samples')\n",
    "    plt.ylabel('Lift')\n",
    "    plt.title('Lift Chart')\n",
    "    plt.legend()\n",
    "    plt.show()"
   ]
  },
  {
   "cell_type": "markdown",
   "id": "3e0bf013",
   "metadata": {},
   "source": [
    "## Random Forest "
   ]
  },
  {
   "cell_type": "code",
   "execution_count": 51,
   "id": "359716f2",
   "metadata": {},
   "outputs": [],
   "source": [
    "y_pred_probarf = rf_classifier.predict_proba(X_test)[:, 1]\n",
    "y_testnumpy_array_rf = y_test.to_numpy()"
   ]
  },
  {
   "cell_type": "code",
   "execution_count": 52,
   "id": "64534254",
   "metadata": {},
   "outputs": [
    {
     "data": {
      "image/png": "[encoded data removed]",
      "text/plain": [
       "<Figure size 1200x600 with 2 Axes>"
      ]
     },
     "metadata": {},
     "output_type": "display_data"
    }
   ],
   "source": [
    "# Plot the Lift and Gain Charts\n",
    "plot_lift_gain_chart(y_testnumpy_array_rf, y_pred_probarf)"
   ]
  },
  {
   "cell_type": "markdown",
   "id": "9520f178",
   "metadata": {},
   "source": [
    "## Logistic Regression"
   ]
  },
  {
   "cell_type": "code",
   "execution_count": 53,
   "id": "7c5b4c8c",
   "metadata": {},
   "outputs": [],
   "source": [
    "y_pred_probalr = logistic_reg.predict_proba(X_test)[:, 1]\n",
    "y_testnumpy_array_lr = y_test.to_numpy()"
   ]
  },
  {
   "cell_type": "code",
   "execution_count": 54,
   "id": "e49afde9",
   "metadata": {},
   "outputs": [
    {
     "data": {
      "image/png": "[encoded data removed]",
      "text/plain": [
       "<Figure size 1200x600 with 2 Axes>"
      ]
     },
     "metadata": {},
     "output_type": "display_data"
    }
   ],
   "source": [
    "# Plot the Lift and Gain Charts\n",
    "plot_lift_gain_chart(y_testnumpy_array_lr,y_pred_probalr)"
   ]
  },
  {
   "cell_type": "markdown",
   "id": "bbabd496",
   "metadata": {},
   "source": [
    "## ROC and AUC Curve "
   ]
  },
  {
   "cell_type": "code",
   "execution_count": null,
   "id": "3b3f8ace",
   "metadata": {},
   "outputs": [],
   "source": []
  }
 ],
 "metadata": {
  "kernelspec": {
   "display_name": "Python 3 (ipykernel)",
   "language": "python",
   "name": "python3"
  },
  "language_info": {
   "codemirror_mode": {
    "name": "ipython",
    "version": 3
   },
   "file_extension": ".py",
   "mimetype": "text/x-python",
   "name": "python",
   "nbconvert_exporter": "python",
   "pygments_lexer": "ipython3",
   "version": "3.9.13"
  }
 },
 "nbformat": 4,
 "nbformat_minor": 5
}
